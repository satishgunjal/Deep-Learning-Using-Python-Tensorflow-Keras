{
  "nbformat": 4,
  "nbformat_minor": 0,
  "metadata": {
    "colab": {
      "name": "03_Movie_Review_Classification.ipynb",
      "provenance": [],
      "authorship_tag": "ABX9TyOHZJMbZ605xpOrE4FNT04Z",
      "include_colab_link": true
    },
    "kernelspec": {
      "name": "python3",
      "display_name": "Python 3"
    }
  },
  "cells": [
    {
      "cell_type": "markdown",
      "metadata": {
        "id": "view-in-github",
        "colab_type": "text"
      },
      "source": [
        "<a href=\"https://colab.research.google.com/github/satishgunjal/Deep-Learning-Using-Python-Tensorflow-Keras/blob/master/03_Movie_Review_Classification.ipynb\" target=\"_parent\"><img src=\"https://colab.research.google.com/assets/colab-badge.svg\" alt=\"Open In Colab\"/></a>"
      ]
    },
    {
      "cell_type": "markdown",
      "metadata": {
        "id": "9o7bJYPx5AML",
        "colab_type": "text"
      },
      "source": [
        "# Movie Review Classification\n",
        "* We are going to use 'Word2Vec' technique to convert the movie review(text data) into vector. And use this vector data as input layer in or Neural network\n",
        "* We are also going to use TensorFlow 2.* version, Keras\n"
      ]
    },
    {
      "cell_type": "code",
      "metadata": {
        "id": "AhAMYAu24xmH",
        "colab_type": "code",
        "colab": {
          "base_uri": "https://localhost:8080/",
          "height": 35
        },
        "outputId": "8e6e7bef-d397-45ed-9fdf-dc9d4a807a26"
      },
      "source": [
        "import tensorflow as tf\n",
        "tf.__version__"
      ],
      "execution_count": 1,
      "outputs": [
        {
          "output_type": "execute_result",
          "data": {
            "text/plain": [
              "'2.2.0-rc3'"
            ]
          },
          "metadata": {
            "tags": []
          },
          "execution_count": 1
        }
      ]
    },
    {
      "cell_type": "code",
      "metadata": {
        "id": "fUrHPDnI68xd",
        "colab_type": "code",
        "colab": {}
      },
      "source": [
        "#Importing other tensorflow libra\n",
        "\n",
        "import tensorflow_datasets as tfds # to use tensorflow prebuilt datasets\n",
        "import tensorflow_hub as hub # Contains presaved models for transfer learning"
      ],
      "execution_count": 0,
      "outputs": []
    },
    {
      "cell_type": "markdown",
      "metadata": {
        "id": "MMLlZU_R8L0g",
        "colab_type": "text"
      },
      "source": [
        "Lets view the list of all the vailable datasets"
      ]
    },
    {
      "cell_type": "code",
      "metadata": {
        "id": "hnG4Gf_Z8Qb6",
        "colab_type": "code",
        "colab": {
          "base_uri": "https://localhost:8080/",
          "height": 1000
        },
        "outputId": "7dabb3ce-5381-4a6b-95ca-bddc4b62884e"
      },
      "source": [
        "tfds.list_builders()"
      ],
      "execution_count": 15,
      "outputs": [
        {
          "output_type": "execute_result",
          "data": {
            "text/plain": [
              "['abstract_reasoning',\n",
              " 'aeslc',\n",
              " 'aflw2k3d',\n",
              " 'amazon_us_reviews',\n",
              " 'arc',\n",
              " 'bair_robot_pushing_small',\n",
              " 'beans',\n",
              " 'big_patent',\n",
              " 'bigearthnet',\n",
              " 'billsum',\n",
              " 'binarized_mnist',\n",
              " 'binary_alpha_digits',\n",
              " 'c4',\n",
              " 'caltech101',\n",
              " 'caltech_birds2010',\n",
              " 'caltech_birds2011',\n",
              " 'cars196',\n",
              " 'cassava',\n",
              " 'cats_vs_dogs',\n",
              " 'celeb_a',\n",
              " 'celeb_a_hq',\n",
              " 'cfq',\n",
              " 'chexpert',\n",
              " 'cifar10',\n",
              " 'cifar100',\n",
              " 'cifar10_1',\n",
              " 'cifar10_corrupted',\n",
              " 'citrus_leaves',\n",
              " 'cityscapes',\n",
              " 'civil_comments',\n",
              " 'clevr',\n",
              " 'cmaterdb',\n",
              " 'cnn_dailymail',\n",
              " 'coco',\n",
              " 'coil100',\n",
              " 'colorectal_histology',\n",
              " 'colorectal_histology_large',\n",
              " 'cos_e',\n",
              " 'curated_breast_imaging_ddsm',\n",
              " 'cycle_gan',\n",
              " 'deep_weeds',\n",
              " 'definite_pronoun_resolution',\n",
              " 'diabetic_retinopathy_detection',\n",
              " 'div2k',\n",
              " 'dmlab',\n",
              " 'downsampled_imagenet',\n",
              " 'dsprites',\n",
              " 'dtd',\n",
              " 'duke_ultrasound',\n",
              " 'dummy_dataset_shared_generator',\n",
              " 'dummy_mnist',\n",
              " 'emnist',\n",
              " 'eraser_multi_rc',\n",
              " 'esnli',\n",
              " 'eurosat',\n",
              " 'fashion_mnist',\n",
              " 'flic',\n",
              " 'flores',\n",
              " 'food101',\n",
              " 'gap',\n",
              " 'gigaword',\n",
              " 'glue',\n",
              " 'groove',\n",
              " 'higgs',\n",
              " 'horses_or_humans',\n",
              " 'i_naturalist2017',\n",
              " 'image_label_folder',\n",
              " 'imagenet2012',\n",
              " 'imagenet2012_corrupted',\n",
              " 'imagenet_resized',\n",
              " 'imagenette',\n",
              " 'imagewang',\n",
              " 'imdb_reviews',\n",
              " 'iris',\n",
              " 'kitti',\n",
              " 'kmnist',\n",
              " 'lfw',\n",
              " 'librispeech',\n",
              " 'librispeech_lm',\n",
              " 'libritts',\n",
              " 'lm1b',\n",
              " 'lost_and_found',\n",
              " 'lsun',\n",
              " 'malaria',\n",
              " 'math_dataset',\n",
              " 'mnist',\n",
              " 'mnist_corrupted',\n",
              " 'movie_rationales',\n",
              " 'moving_mnist',\n",
              " 'multi_news',\n",
              " 'multi_nli',\n",
              " 'multi_nli_mismatch',\n",
              " 'natural_questions',\n",
              " 'newsroom',\n",
              " 'nsynth',\n",
              " 'omniglot',\n",
              " 'open_images_v4',\n",
              " 'opinosis',\n",
              " 'oxford_flowers102',\n",
              " 'oxford_iiit_pet',\n",
              " 'para_crawl',\n",
              " 'patch_camelyon',\n",
              " 'pet_finder',\n",
              " 'places365_small',\n",
              " 'plant_leaves',\n",
              " 'plant_village',\n",
              " 'plantae_k',\n",
              " 'qa4mre',\n",
              " 'quickdraw_bitmap',\n",
              " 'reddit_tifu',\n",
              " 'resisc45',\n",
              " 'rock_paper_scissors',\n",
              " 'rock_you',\n",
              " 'scan',\n",
              " 'scene_parse150',\n",
              " 'scicite',\n",
              " 'scientific_papers',\n",
              " 'shapes3d',\n",
              " 'smallnorb',\n",
              " 'snli',\n",
              " 'so2sat',\n",
              " 'speech_commands',\n",
              " 'squad',\n",
              " 'stanford_dogs',\n",
              " 'stanford_online_products',\n",
              " 'starcraft_video',\n",
              " 'sun397',\n",
              " 'super_glue',\n",
              " 'svhn_cropped',\n",
              " 'ted_hrlr_translate',\n",
              " 'ted_multi_translate',\n",
              " 'tf_flowers',\n",
              " 'the300w_lp',\n",
              " 'tiny_shakespeare',\n",
              " 'titanic',\n",
              " 'trivia_qa',\n",
              " 'uc_merced',\n",
              " 'ucf101',\n",
              " 'vgg_face2',\n",
              " 'visual_domain_decathlon',\n",
              " 'voc',\n",
              " 'wider_face',\n",
              " 'wikihow',\n",
              " 'wikipedia',\n",
              " 'wmt14_translate',\n",
              " 'wmt15_translate',\n",
              " 'wmt16_translate',\n",
              " 'wmt17_translate',\n",
              " 'wmt18_translate',\n",
              " 'wmt19_translate',\n",
              " 'wmt_t2t_translate',\n",
              " 'wmt_translate',\n",
              " 'xnli',\n",
              " 'xsum',\n",
              " 'yelp_polarity_reviews']"
            ]
          },
          "metadata": {
            "tags": []
          },
          "execution_count": 15
        }
      ]
    },
    {
      "cell_type": "markdown",
      "metadata": {
        "id": "oiGPSutL8htV",
        "colab_type": "text"
      },
      "source": [
        "We are going to use 'imdb_review' dataset"
      ]
    },
    {
      "cell_type": "code",
      "metadata": {
        "id": "EJFvnuTE8lYO",
        "colab_type": "code",
        "colab": {
          "base_uri": "https://localhost:8080/",
          "height": 69
        },
        "outputId": "e440de0d-8abd-4bba-f1e3-5def0543a6f8"
      },
      "source": [
        "tfds.load('imdb_reviews')"
      ],
      "execution_count": 16,
      "outputs": [
        {
          "output_type": "execute_result",
          "data": {
            "text/plain": [
              "{'test': <DatasetV1Adapter shapes: {label: (), text: ()}, types: {label: tf.int64, text: tf.string}>,\n",
              " 'train': <DatasetV1Adapter shapes: {label: (), text: ()}, types: {label: tf.int64, text: tf.string}>,\n",
              " 'unsupervised': <DatasetV1Adapter shapes: {label: (), text: ()}, types: {label: tf.int64, text: tf.string}>}"
            ]
          },
          "metadata": {
            "tags": []
          },
          "execution_count": 16
        }
      ]
    },
    {
      "cell_type": "markdown",
      "metadata": {
        "id": "l6DsOhbR9bEd",
        "colab_type": "text"
      },
      "source": [
        "Lets split the data into training set, cross validation set and test set. Generally split is 60% for training, 20 for cross validation and 20 % for testing.\n",
        "\n",
        "Cross validation data is used for fine tuning the model"
      ]
    },
    {
      "cell_type": "code",
      "metadata": {
        "id": "XYNoBgcg9ucM",
        "colab_type": "code",
        "colab": {}
      },
      "source": [
        "train_data, validation_data, test_data = tfds.load(name=\"imdb_reviews\",split=('train[:60%]', 'train[60%:]', 'test'), as_supervised=True)"
      ],
      "execution_count": 0,
      "outputs": []
    },
    {
      "cell_type": "code",
      "metadata": {
        "id": "kuvjYDrKJiq-",
        "colab_type": "code",
        "colab": {
          "base_uri": "https://localhost:8080/",
          "height": 35
        },
        "outputId": "e06a871f-8b0d-47ab-dffd-b22976c5f54b"
      },
      "source": [
        "type(train_data)"
      ],
      "execution_count": 19,
      "outputs": [
        {
          "output_type": "execute_result",
          "data": {
            "text/plain": [
              "tensorflow.python.data.ops.dataset_ops.DatasetV1Adapter"
            ]
          },
          "metadata": {
            "tags": []
          },
          "execution_count": 19
        }
      ]
    },
    {
      "cell_type": "code",
      "metadata": {
        "id": "491K1GdvJwCt",
        "colab_type": "code",
        "colab": {
          "base_uri": "https://localhost:8080/",
          "height": 245
        },
        "outputId": "1230bb73-8380-49bf-9476-d33a177ca1ff"
      },
      "source": [
        "# Since our result dataset are not of type list or dictionary we will get data as below\n",
        "train_examples_batch, train_labels_batch = next(iter(train_data.batch(10)))\n",
        "print('train_examples_batch= %s' % (train_examples_batch))\n",
        "print('train_labels_batch= %s' % (train_labels_batch))"
      ],
      "execution_count": 23,
      "outputs": [
        {
          "output_type": "stream",
          "text": [
            "train_examples_batch= tf.Tensor(\n",
            "[b\"This was an absolutely terrible movie. Don't be lured in by Christopher Walken or Michael Ironside. Both are great actors, but this must simply be their worst role in history. Even their great acting could not redeem this movie's ridiculous storyline. This movie is an early nineties US propaganda piece. The most pathetic scenes were those when the Columbian rebels were making their cases for revolutions. Maria Conchita Alonso appeared phony, and her pseudo-love affair with Walken was nothing but a pathetic emotional plug in a movie that was devoid of any real meaning. I am disappointed that there are movies like this, ruining actor's like Christopher Walken's good name. I could barely sit through it.\"\n",
            " b'I have been known to fall asleep during films, but this is usually due to a combination of things including, really tired, being warm and comfortable on the sette and having just eaten a lot. However on this occasion I fell asleep because the film was rubbish. The plot development was constant. Constantly slow and boring. Things seemed to happen, but with no explanation of what was causing them or why. I admit, I may have missed part of the film, but i watched the majority of it and everything just seemed to happen of its own accord without any real concern for anything else. I cant recommend this film at all.'\n",
            " b'Mann photographs the Alberta Rocky Mountains in a superb fashion, and Jimmy Stewart and Walter Brennan give enjoyable performances as they always seem to do. <br /><br />But come on Hollywood - a Mountie telling the people of Dawson City, Yukon to elect themselves a marshal (yes a marshal!) and to enforce the law themselves, then gunfighters battling it out on the streets for control of the town? <br /><br />Nothing even remotely resembling that happened on the Canadian side of the border during the Klondike gold rush. Mr. Mann and company appear to have mistaken Dawson City for Deadwood, the Canadian North for the American Wild West.<br /><br />Canadian viewers be prepared for a Reefer Madness type of enjoyable howl with this ludicrous plot, or, to shake your head in disgust.'\n",
            " b'This is the kind of film for a snowy Sunday afternoon when the rest of the world can go ahead with its own business as you descend into a big arm-chair and mellow for a couple of hours. Wonderful performances from Cher and Nicolas Cage (as always) gently row the plot along. There are no rapids to cross, no dangerous waters, just a warm and witty paddle through New York life at its best. A family film in every sense and one that deserves the praise it received.'\n",
            " b'As others have mentioned, all the women that go nude in this film are mostly absolutely gorgeous. The plot very ably shows the hypocrisy of the female libido. When men are around they want to be pursued, but when no \"men\" are around, they become the pursuers of a 14 year old boy. And the boy becomes a man really fast (we should all be so lucky at this age!). He then gets up the courage to pursue his true love.'\n",
            " b\"This is a film which should be seen by anybody interested in, effected by, or suffering from an eating disorder. It is an amazingly accurate and sensitive portrayal of bulimia in a teenage girl, its causes and its symptoms. The girl is played by one of the most brilliant young actresses working in cinema today, Alison Lohman, who was later so spectacular in 'Where the Truth Lies'. I would recommend that this film be shown in all schools, as you will never see a better on this subject. Alison Lohman is absolutely outstanding, and one marvels at her ability to convey the anguish of a girl suffering from this compulsive disorder. If barometers tell us the air pressure, Alison Lohman tells us the emotional pressure with the same degree of accuracy. Her emotional range is so precise, each scene could be measured microscopically for its gradations of trauma, on a scale of rising hysteria and desperation which reaches unbearable intensity. Mare Winningham is the perfect choice to play her mother, and does so with immense sympathy and a range of emotions just as finely tuned as Lohman's. Together, they make a pair of sensitive emotional oscillators vibrating in resonance with one another. This film is really an astonishing achievement, and director Katt Shea should be proud of it. The only reason for not seeing it is if you are not interested in people. But even if you like nature films best, this is after all animal behaviour at the sharp edge. Bulimia is an extreme version of how a tormented soul can destroy her own body in a frenzy of despair. And if we don't sympathise with people suffering from the depths of despair, then we are dead inside.\"\n",
            " b'Okay, you have:<br /><br />Penelope Keith as Miss Herringbone-Tweed, B.B.E. (Backbone of England.) She\\'s killed off in the first scene - that\\'s right, folks; this show has no backbone!<br /><br />Peter O\\'Toole as Ol\\' Colonel Cricket from The First War and now the emblazered Lord of the Manor.<br /><br />Joanna Lumley as the ensweatered Lady of the Manor, 20 years younger than the colonel and 20 years past her own prime but still glamourous (Brit spelling, not mine) enough to have a toy-boy on the side. It\\'s alright, they have Col. Cricket\\'s full knowledge and consent (they guy even comes \\'round for Christmas!) Still, she\\'s considerate of the colonel enough to have said toy-boy her own age (what a gal!)<br /><br />David McCallum as said toy-boy, equally as pointlessly glamourous as his squeeze. Pilcher couldn\\'t come up with any cover for him within the story, so she gave him a hush-hush job at the Circus.<br /><br />and finally:<br /><br />Susan Hampshire as Miss Polonia Teacups, Venerable Headmistress of the Venerable Girls\\' Boarding-School, serving tea in her office with a dash of deep, poignant advice for life in the outside world just before graduation. Her best bit of advice: \"I\\'ve only been to Nancherrow (the local Stately Home of England) once. I thought it was very beautiful but, somehow, not part of the real world.\" Well, we can\\'t say they didn\\'t warn us.<br /><br />Ah, Susan - time was, your character would have been running the whole show. They don\\'t write \\'em like that any more. Our loss, not yours.<br /><br />So - with a cast and setting like this, you have the re-makings of \"Brideshead Revisited,\" right?<br /><br />Wrong! They took these 1-dimensional supporting roles because they paid so well. After all, acting is one of the oldest temp-jobs there is (YOU name another!)<br /><br />First warning sign: lots and lots of backlighting. They get around it by shooting outdoors - \"hey, it\\'s just the sunlight!\"<br /><br />Second warning sign: Leading Lady cries a lot. When not crying, her eyes are moist. That\\'s the law of romance novels: Leading Lady is \"dewy-eyed.\"<br /><br />Henceforth, Leading Lady shall be known as L.L.<br /><br />Third warning sign: L.L. actually has stars in her eyes when she\\'s in love. Still, I\\'ll give Emily Mortimer an award just for having to act with that spotlight in her eyes (I wonder . did they use contacts?)<br /><br />And lastly, fourth warning sign: no on-screen female character is \"Mrs.\" She\\'s either \"Miss\" or \"Lady.\"<br /><br />When all was said and done, I still couldn\\'t tell you who was pursuing whom and why. I couldn\\'t even tell you what was said and done.<br /><br />To sum up: they all live through World War II without anything happening to them at all.<br /><br />OK, at the end, L.L. finds she\\'s lost her parents to the Japanese prison camps and baby sis comes home catatonic. Meanwhile (there\\'s always a \"meanwhile,\") some young guy L.L. had a crush on (when, I don\\'t know) comes home from some wartime tough spot and is found living on the street by Lady of the Manor (must be some street if SHE\\'s going to find him there.) Both war casualties are whisked away to recover at Nancherrow (SOMEBODY has to be \"whisked away\" SOMEWHERE in these romance stories!)<br /><br />Great drama.'\n",
            " b'The film is based on a genuine 1950s novel.<br /><br />Journalist Colin McInnes wrote a set of three \"London novels\": \"Absolute Beginners\", \"City of Spades\" and \"Mr Love and Justice\". I have read all three. The first two are excellent. The last, perhaps an experiment that did not come off. But McInnes\\'s work is highly acclaimed; and rightly so. This musical is the novelist\\'s ultimate nightmare - to see the fruits of one\\'s mind being turned into a glitzy, badly-acted, soporific one-dimensional apology of a film that says it captures the spirit of 1950s London, and does nothing of the sort.<br /><br />Thank goodness Colin McInnes wasn\\'t alive to witness it.'\n",
            " b'I really love the sexy action and sci-fi films of the sixties and its because of the actress\\'s that appeared in them. They found the sexiest women to be in these films and it didn\\'t matter if they could act (Remember \"Candy\"?). The reason I was disappointed by this film was because it wasn\\'t nostalgic enough. The story here has a European sci-fi film called \"Dragonfly\" being made and the director is fired. So the producers decide to let a young aspiring filmmaker (Jeremy Davies) to complete the picture. They\\'re is one real beautiful woman in the film who plays Dragonfly but she\\'s barely in it. Film is written and directed by Roman Coppola who uses some of his fathers exploits from his early days and puts it into the script. I wish the film could have been an homage to those early films. They could have lots of cameos by actors who appeared in them. There is one actor in this film who was popular from the sixties and its John Phillip Law (Barbarella). Gerard Depardieu, Giancarlo Giannini and Dean Stockwell appear as well. I guess I\\'m going to have to continue waiting for a director to make a good homage to the films of the sixties. If any are reading this, \"Make it as sexy as you can\"! I\\'ll be waiting!'\n",
            " b'Sure, this one isn\\'t really a blockbuster, nor does it target such a position. \"Dieter\" is the first name of a quite popular German musician, who is either loved or hated for his kind of acting and thats exactly what this movie is about. It is based on the autobiography \"Dieter Bohlen\" wrote a few years ago but isn\\'t meant to be accurate on that. The movie is filled with some sexual offensive content (at least for American standard) which is either amusing (not for the other \"actors\" of course) or dumb - it depends on your individual kind of humor or on you being a \"Bohlen\"-Fan or not. Technically speaking there isn\\'t much to criticize. Speaking of me I find this movie to be an OK-movie.'], shape=(10,), dtype=string)\n",
            "train_labels_batch= tf.Tensor([0 0 0 1 1 1 0 0 0 0], shape=(10,), dtype=int64)\n"
          ],
          "name": "stdout"
        }
      ]
    },
    {
      "cell_type": "markdown",
      "metadata": {
        "id": "dlnkZ6ncLikO",
        "colab_type": "text"
      },
      "source": [
        "Above result shows 10 movie review with 10 corresponding labels. 1 = positive review, 0 = negative review"
      ]
    },
    {
      "cell_type": "markdown",
      "metadata": {
        "id": "HzzUkTCHNTww",
        "colab_type": "text"
      },
      "source": [
        "* Now need to convert our movie review text using Word2Vec to vectors so that we can use it in our model\n",
        "* We are going to use TensroFlow Hub to use pretrained model of Word2Vec \n"
      ]
    },
    {
      "cell_type": "code",
      "metadata": {
        "id": "HlKcYlYsN88R",
        "colab_type": "code",
        "colab": {}
      },
      "source": [
        "pretrained_model = \"https://tfhub.dev/google/tf2-preview/gnews-swivel-20dim/1\"\n",
        "hub_layer = hub.KerasLayer(pretrained_model, input_shape=[], dtype=tf.string, trainable=True)\n",
        "# hub_layer is or input layer which converts text inti vectors"
      ],
      "execution_count": 0,
      "outputs": []
    },
    {
      "cell_type": "markdown",
      "metadata": {
        "id": "COxXMzedOwrN",
        "colab_type": "text"
      },
      "source": [
        "Lets try and convert movie review text to vector using hub_layer"
      ]
    },
    {
      "cell_type": "code",
      "metadata": {
        "id": "sjyfLpOOPEcq",
        "colab_type": "code",
        "colab": {
          "base_uri": "https://localhost:8080/",
          "height": 89
        },
        "outputId": "f88ef4da-f77c-45bb-c1bf-cc52de0dbee9"
      },
      "source": [
        "train_examples_batch[:1]"
      ],
      "execution_count": 26,
      "outputs": [
        {
          "output_type": "execute_result",
          "data": {
            "text/plain": [
              "<tf.Tensor: shape=(1,), dtype=string, numpy=\n",
              "array([b\"This was an absolutely terrible movie. Don't be lured in by Christopher Walken or Michael Ironside. Both are great actors, but this must simply be their worst role in history. Even their great acting could not redeem this movie's ridiculous storyline. This movie is an early nineties US propaganda piece. The most pathetic scenes were those when the Columbian rebels were making their cases for revolutions. Maria Conchita Alonso appeared phony, and her pseudo-love affair with Walken was nothing but a pathetic emotional plug in a movie that was devoid of any real meaning. I am disappointed that there are movies like this, ruining actor's like Christopher Walken's good name. I could barely sit through it.\"],\n",
              "      dtype=object)>"
            ]
          },
          "metadata": {
            "tags": []
          },
          "execution_count": 26
        }
      ]
    },
    {
      "cell_type": "code",
      "metadata": {
        "id": "YAJ_KyRQO2IA",
        "colab_type": "code",
        "colab": {
          "base_uri": "https://localhost:8080/",
          "height": 121
        },
        "outputId": "30f09768-fd24-4390-d9ca-3e3127eecd4d"
      },
      "source": [
        "hub_layer(train_examples_batch[:1])"
      ],
      "execution_count": 25,
      "outputs": [
        {
          "output_type": "execute_result",
          "data": {
            "text/plain": [
              "<tf.Tensor: shape=(1, 20), dtype=float32, numpy=\n",
              "array([[ 1.765786  , -3.882232  ,  3.9134233 , -1.5557289 , -3.3362343 ,\n",
              "        -1.7357955 , -1.9954445 ,  1.2989551 ,  5.081598  , -1.1041286 ,\n",
              "        -2.0503852 , -0.72675157, -0.65675956,  0.24436149, -3.7208383 ,\n",
              "         2.0954835 ,  2.2969332 , -2.0689783 , -2.9489717 , -1.1315987 ]],\n",
              "      dtype=float32)>"
            ]
          },
          "metadata": {
            "tags": []
          },
          "execution_count": 25
        }
      ]
    },
    {
      "cell_type": "markdown",
      "metadata": {
        "id": "-Iz78mESPaCy",
        "colab_type": "text"
      },
      "source": [
        "So the pretrained Word2Vec model converted the movie review into a vector of shape(1,20). "
      ]
    },
    {
      "cell_type": "markdown",
      "metadata": {
        "id": "BwYlfvHzP8nc",
        "colab_type": "text"
      },
      "source": [
        "## Creating a model"
      ]
    },
    {
      "cell_type": "code",
      "metadata": {
        "id": "nPHP9UAcP-mL",
        "colab_type": "code",
        "colab": {
          "base_uri": "https://localhost:8080/",
          "height": 260
        },
        "outputId": "a9e5e911-2c00-4145-9d8f-8ac812d1dead"
      },
      "source": [
        "model = tf.keras.Sequential()\n",
        "\n",
        "model.add(hub_layer) # input layer\n",
        "model.add(tf.keras.layers.Dense(16, activation = 'relu')) # 16 neurons in hidden layer\n",
        "model.add(tf.keras.layers.Dense(1, activation = 'sigmoid')) # Since single callss classification using sigmoid function. Use 'softmax' for multclass classification\n",
        "model.summary()"
      ],
      "execution_count": 28,
      "outputs": [
        {
          "output_type": "stream",
          "text": [
            "Model: \"sequential_1\"\n",
            "_________________________________________________________________\n",
            "Layer (type)                 Output Shape              Param #   \n",
            "=================================================================\n",
            "keras_layer (KerasLayer)     (None, 20)                400020    \n",
            "_________________________________________________________________\n",
            "dense_2 (Dense)              (None, 16)                336       \n",
            "_________________________________________________________________\n",
            "dense_3 (Dense)              (None, 1)                 17        \n",
            "=================================================================\n",
            "Total params: 400,373\n",
            "Trainable params: 400,373\n",
            "Non-trainable params: 0\n",
            "_________________________________________________________________\n"
          ],
          "name": "stdout"
        }
      ]
    },
    {
      "cell_type": "markdown",
      "metadata": {
        "id": "C3Gdjri1RVat",
        "colab_type": "text"
      },
      "source": [
        "## Compile the model"
      ]
    },
    {
      "cell_type": "code",
      "metadata": {
        "id": "zYRX_nqbRbgu",
        "colab_type": "code",
        "colab": {}
      },
      "source": [
        "model.compile(optimizer='adam', loss='binary_crossentropy', metrics=['accuracy'])"
      ],
      "execution_count": 0,
      "outputs": []
    },
    {
      "cell_type": "markdown",
      "metadata": {
        "id": "Hu9sXm9cRr8y",
        "colab_type": "text"
      },
      "source": [
        "## Train the model"
      ]
    },
    {
      "cell_type": "code",
      "metadata": {
        "id": "i0NrgdwoRtYp",
        "colab_type": "code",
        "colab": {
          "base_uri": "https://localhost:8080/",
          "height": 728
        },
        "outputId": "3caa1309-0a6f-4d9b-e8f3-f13f1a176eed"
      },
      "source": [
        "## Shuffle the samples, total 20 iterations, pass validation data for fine tuning, verbose =1 for printing the output\n",
        "model.fit(train_data.shuffle(10000).batch(512),  \n",
        "          epochs=20, \n",
        "          validation_data = validation_data.batch(512),\n",
        "          verbose =1)"
      ],
      "execution_count": 35,
      "outputs": [
        {
          "output_type": "stream",
          "text": [
            "Epoch 1/20\n",
            "30/30 [==============================] - 3s 110ms/step - loss: 0.8737 - accuracy: 0.5424 - val_loss: 0.7430 - val_accuracy: 0.5558\n",
            "Epoch 2/20\n",
            "30/30 [==============================] - 3s 104ms/step - loss: 0.7080 - accuracy: 0.5735 - val_loss: 0.6848 - val_accuracy: 0.5920\n",
            "Epoch 3/20\n",
            "30/30 [==============================] - 3s 102ms/step - loss: 0.6683 - accuracy: 0.6044 - val_loss: 0.6540 - val_accuracy: 0.6210\n",
            "Epoch 4/20\n",
            "30/30 [==============================] - 3s 102ms/step - loss: 0.6360 - accuracy: 0.6402 - val_loss: 0.6281 - val_accuracy: 0.6530\n",
            "Epoch 5/20\n",
            "30/30 [==============================] - 3s 105ms/step - loss: 0.6067 - accuracy: 0.6752 - val_loss: 0.6020 - val_accuracy: 0.6834\n",
            "Epoch 6/20\n",
            "30/30 [==============================] - 3s 105ms/step - loss: 0.5759 - accuracy: 0.7094 - val_loss: 0.5715 - val_accuracy: 0.7110\n",
            "Epoch 7/20\n",
            "30/30 [==============================] - 3s 103ms/step - loss: 0.5394 - accuracy: 0.7446 - val_loss: 0.5385 - val_accuracy: 0.7430\n",
            "Epoch 8/20\n",
            "30/30 [==============================] - 3s 105ms/step - loss: 0.5013 - accuracy: 0.7763 - val_loss: 0.5053 - val_accuracy: 0.7676\n",
            "Epoch 9/20\n",
            "30/30 [==============================] - 3s 104ms/step - loss: 0.4642 - accuracy: 0.8009 - val_loss: 0.4728 - val_accuracy: 0.7918\n",
            "Epoch 10/20\n",
            "30/30 [==============================] - 3s 103ms/step - loss: 0.4280 - accuracy: 0.8240 - val_loss: 0.4439 - val_accuracy: 0.8065\n",
            "Epoch 11/20\n",
            "30/30 [==============================] - 3s 103ms/step - loss: 0.3954 - accuracy: 0.8418 - val_loss: 0.4187 - val_accuracy: 0.8211\n",
            "Epoch 12/20\n",
            "30/30 [==============================] - 3s 104ms/step - loss: 0.3659 - accuracy: 0.8569 - val_loss: 0.3971 - val_accuracy: 0.8314\n",
            "Epoch 13/20\n",
            "30/30 [==============================] - 3s 103ms/step - loss: 0.3402 - accuracy: 0.8705 - val_loss: 0.3782 - val_accuracy: 0.8402\n",
            "Epoch 14/20\n",
            "30/30 [==============================] - 3s 104ms/step - loss: 0.3158 - accuracy: 0.8807 - val_loss: 0.3626 - val_accuracy: 0.8471\n",
            "Epoch 15/20\n",
            "30/30 [==============================] - 3s 104ms/step - loss: 0.2955 - accuracy: 0.8905 - val_loss: 0.3504 - val_accuracy: 0.8530\n",
            "Epoch 16/20\n",
            "30/30 [==============================] - 3s 106ms/step - loss: 0.2775 - accuracy: 0.8971 - val_loss: 0.3389 - val_accuracy: 0.8575\n",
            "Epoch 17/20\n",
            "30/30 [==============================] - 3s 102ms/step - loss: 0.2587 - accuracy: 0.9067 - val_loss: 0.3298 - val_accuracy: 0.8612\n",
            "Epoch 18/20\n",
            "30/30 [==============================] - 3s 104ms/step - loss: 0.2437 - accuracy: 0.9114 - val_loss: 0.3213 - val_accuracy: 0.8673\n",
            "Epoch 19/20\n",
            "30/30 [==============================] - 3s 105ms/step - loss: 0.2271 - accuracy: 0.9183 - val_loss: 0.3176 - val_accuracy: 0.8634\n",
            "Epoch 20/20\n",
            "30/30 [==============================] - 3s 103ms/step - loss: 0.2128 - accuracy: 0.9245 - val_loss: 0.3107 - val_accuracy: 0.8698\n"
          ],
          "name": "stdout"
        },
        {
          "output_type": "execute_result",
          "data": {
            "text/plain": [
              "<tensorflow.python.keras.callbacks.History at 0x7fbd7c93b6d8>"
            ]
          },
          "metadata": {
            "tags": []
          },
          "execution_count": 35
        }
      ]
    },
    {
      "cell_type": "markdown",
      "metadata": {
        "id": "uy2_3Oh_UcBs",
        "colab_type": "text"
      },
      "source": [
        "## Testing the model"
      ]
    },
    {
      "cell_type": "code",
      "metadata": {
        "id": "l5kRRGe_UeAv",
        "colab_type": "code",
        "colab": {
          "base_uri": "https://localhost:8080/",
          "height": 35
        },
        "outputId": "0921dfe0-2ccb-4398-b0e8-21ace00122d1"
      },
      "source": [
        "model.predict([['This the worst movie i have even seen']])"
      ],
      "execution_count": 38,
      "outputs": [
        {
          "output_type": "execute_result",
          "data": {
            "text/plain": [
              "array([[0.08275743]], dtype=float32)"
            ]
          },
          "metadata": {
            "tags": []
          },
          "execution_count": 38
        }
      ]
    },
    {
      "cell_type": "markdown",
      "metadata": {
        "id": "vKO84HdhUu9I",
        "colab_type": "text"
      },
      "source": [
        "Since result is near to zero means its negative review"
      ]
    },
    {
      "cell_type": "code",
      "metadata": {
        "id": "NO8JAqJCU1Bv",
        "colab_type": "code",
        "colab": {
          "base_uri": "https://localhost:8080/",
          "height": 35
        },
        "outputId": "e87f9f2d-5aef-46c3-887c-cc536722aa5d"
      },
      "source": [
        "model.predict([['This is best movie of all time']])"
      ],
      "execution_count": 39,
      "outputs": [
        {
          "output_type": "execute_result",
          "data": {
            "text/plain": [
              "array([[0.8732744]], dtype=float32)"
            ]
          },
          "metadata": {
            "tags": []
          },
          "execution_count": 39
        }
      ]
    },
    {
      "cell_type": "markdown",
      "metadata": {
        "id": "JBzmI7COU7OA",
        "colab_type": "text"
      },
      "source": [
        "Since result is near to one its positive review"
      ]
    },
    {
      "cell_type": "code",
      "metadata": {
        "id": "HVdlMBYkVT7d",
        "colab_type": "code",
        "colab": {
          "base_uri": "https://localhost:8080/",
          "height": 69
        },
        "outputId": "f419ed62-0d3c-4519-caa4-0578f6376536"
      },
      "source": [
        "# We can also predict for multiple review's at a time\n",
        "model.predict([\"This is the worst movie I have ever seen\",\n",
        "              \"An excellent movie that I enjoyed a lot\",\n",
        "              \"how can one make such a horrible movie? there is no story, acting direction everything is very poor\"])"
      ],
      "execution_count": 40,
      "outputs": [
        {
          "output_type": "execute_result",
          "data": {
            "text/plain": [
              "array([[0.15563773],\n",
              "       [0.9857479 ],\n",
              "       [0.03307325]], dtype=float32)"
            ]
          },
          "metadata": {
            "tags": []
          },
          "execution_count": 40
        }
      ]
    }
  ]
}