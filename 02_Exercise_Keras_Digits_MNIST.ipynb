{
  "nbformat": 4,
  "nbformat_minor": 0,
  "metadata": {
    "colab": {
      "name": "02_Exercise_Keras_Digits_MNIST.ipynb",
      "provenance": [],
      "authorship_tag": "ABX9TyN4j09DJfvJ7t8gBaaQz/uP",
      "include_colab_link": true
    },
    "kernelspec": {
      "name": "python3",
      "display_name": "Python 3"
    }
  },
  "cells": [
    {
      "cell_type": "markdown",
      "metadata": {
        "id": "view-in-github",
        "colab_type": "text"
      },
      "source": [
        "<a href=\"https://colab.research.google.com/github/satishgunjal/Deep-Learning-Using-Python-Tensorflow-Keras/blob/master/02_Exercise_Keras_Digits_MNIST.ipynb\" target=\"_parent\"><img src=\"https://colab.research.google.com/assets/colab-badge.svg\" alt=\"Open In Colab\"/></a>"
      ]
    },
    {
      "cell_type": "markdown",
      "metadata": {
        "id": "8HKaozVkGtUr",
        "colab_type": "text"
      },
      "source": [
        "# Exercise\n",
        "Use keras MNIST database of handwritten digits from https://keras.io/datasets/ to build a neural network. Figure out,\n",
        "* Optiomal number of hidden layers and neurons in each hidden layer that can give you best accuracy\n",
        "* Optional accuracy score"
      ]
    },
    {
      "cell_type": "markdown",
      "metadata": {
        "id": "WNdBUdezLmKO",
        "colab_type": "text"
      },
      "source": [
        "## Load the data"
      ]
    },
    {
      "cell_type": "code",
      "metadata": {
        "id": "ZlBrHjO4Gsih",
        "colab_type": "code",
        "colab": {
          "base_uri": "https://localhost:8080/",
          "height": 87
        },
        "outputId": "d9317c54-cd99-4365-a8d6-fa3d81d2fce3"
      },
      "source": [
        "from keras.datasets import mnist\n",
        "\n",
        "(x_train,y_train),(x_test,y_test) = mnist.load_data()\n",
        "\n",
        "print('x_train = ' , x_train.shape)\n",
        "print('y_train = ' ,(y_train.shape))\n",
        "print('x_test = ' ,(x_test.shape))\n",
        "print('y_test = ' , (y_test.shape))"
      ],
      "execution_count": 15,
      "outputs": [
        {
          "output_type": "stream",
          "text": [
            "x_train =  (60000, 28, 28)\n",
            "y_train =  (60000,)\n",
            "x_test =  (10000, 28, 28)\n",
            "y_test =  (10000,)\n"
          ],
          "name": "stdout"
        }
      ]
    },
    {
      "cell_type": "markdown",
      "metadata": {
        "id": "gGdg6dfARiiq",
        "colab_type": "text"
      },
      "source": [
        "## Understanding the dataset\n",
        "* Dataset of 60,000 28x28 grayscale images of the 10 digits, along with a test set of 10,000 images.\n",
        "*  x_train, x_test: uint8 array of grayscale image data with shape (num_samples, 28, 28).\n",
        "\n",
        "*  y_train, y_test: uint8 array of labels (integers in range 0-9) with shape (num_samples,).\n",
        "\n",
        "*  (The Uint8Array typed array represents an array of 8-bit unsigned integers. 8-bit unsigned integer has a range of 0 to 255)\n",
        "\n",
        "*  Since its 8bit gray scale image every pixel is stored in 1byte of memmory. Min value of each pixel in image data array is 0 means black, where max value is 255(2^8-1) means white\n",
        "*  For more details about Bit-Map Images pls refer [Bit-Map Images](https://courses.cs.vt.edu/~cs1204/art/bitmaps.html) and [Quera post about b-Bit image](https://qr.ae/pNrl0g)"
      ]
    },
    {
      "cell_type": "markdown",
      "metadata": {
        "id": "lZ4deIAfR7gs",
        "colab_type": "text"
      },
      "source": [
        "## Data visualization"
      ]
    },
    {
      "cell_type": "code",
      "metadata": {
        "id": "T0P5jlolR9fP",
        "colab_type": "code",
        "colab": {
          "base_uri": "https://localhost:8080/",
          "height": 293
        },
        "outputId": "51673df8-45c8-4606-b449-c896ef82413a"
      },
      "source": [
        "import matplotlib.pyplot as plt\n",
        "\n",
        "#Show training set at index 0\n",
        "plt.matshow(x_train[0])"
      ],
      "execution_count": 18,
      "outputs": [
        {
          "output_type": "execute_result",
          "data": {
            "text/plain": [
              "<matplotlib.image.AxesImage at 0x7f2bbab24ba8>"
            ]
          },
          "metadata": {
            "tags": []
          },
          "execution_count": 18
        },
        {
          "output_type": "display_data",
          "data": {
            "image/png": "[encoded data removed]",
            "text/plain": [
              "<Figure size 288x288 with 1 Axes>"
            ]
          },
          "metadata": {
            "tags": [],
            "needs_background": "light"
          }
        }
      ]
    },
    {
      "cell_type": "code",
      "metadata": {
        "id": "sT2zHGLlSUgr",
        "colab_type": "code",
        "colab": {
          "base_uri": "https://localhost:8080/",
          "height": 35
        },
        "outputId": "ba340c94-6561-42ab-e6f7-e22afcabffb5"
      },
      "source": [
        "#show corresponding label at index 0\n",
        "y_train[0]"
      ],
      "execution_count": 20,
      "outputs": [
        {
          "output_type": "execute_result",
          "data": {
            "text/plain": [
              "5"
            ]
          },
          "metadata": {
            "tags": []
          },
          "execution_count": 20
        }
      ]
    },
    {
      "cell_type": "markdown",
      "metadata": {
        "id": "yPUGq8hOTPRz",
        "colab_type": "text"
      },
      "source": [
        "##Normalizing the training data\n",
        "* We will use feature scaling for data normalization. Feature scaling involves dividing the input value by range(max - min).\n",
        "* After feature scaling we get feature range from 0 to 1"
      ]
    },
    {
      "cell_type": "code",
      "metadata": {
        "id": "geAjiY0-UrZ5",
        "colab_type": "code",
        "colab": {}
      },
      "source": [
        "x_train = x_train/255"
      ],
      "execution_count": 0,
      "outputs": []
    },
    {
      "cell_type": "code",
      "metadata": {
        "id": "Y4IBFPu_XEYF",
        "colab_type": "code",
        "colab": {}
      },
      "source": [
        "x_test = x_test/255"
      ],
      "execution_count": 0,
      "outputs": []
    },
    {
      "cell_type": "markdown",
      "metadata": {
        "id": "TTV_3YKIXM_N",
        "colab_type": "text"
      },
      "source": [
        "## Now build sequential model and add layers to it\n",
        "* Sequential model is linear stack of layers\n",
        "* Here we are going to use Flatten, Dense and Activation layer\n",
        "* We are going to use Flatten to convert our input image 2D array(28x28) to 1D array(784)\n",
        "* We are using Dense layer  with activation function 'relu' to create our hidden layer. To start with we will use 100 neurons.\n",
        "* And we will use Dense layer with activation function 'softmax' to create our output layer. Since we have 10 categories(labels) we are going use 10 neurons in this layer\n",
        "* 'softmax' activation function in last layer is used to ditribute the set of numbers into the probabilty for the output classess(labels)"
      ]
    },
    {
      "cell_type": "code",
      "metadata": {
        "id": "kOkrJUfrXULm",
        "colab_type": "code",
        "colab": {}
      },
      "source": [
        "from keras.models import Sequential\n",
        "from keras.layers import Flatten, Dense, Activation\n",
        "\n",
        "model = Sequential()\n",
        "model.add(Flatten(input_shape=[28,28]))\n",
        "model.add(Dense(100,activation='relu'))\n",
        "model.add(Dense(10,activation='softmax'))"
      ],
      "execution_count": 0,
      "outputs": []
    },
    {
      "cell_type": "code",
      "metadata": {
        "id": "NHqRvrbCeonZ",
        "colab_type": "code",
        "colab": {
          "base_uri": "https://localhost:8080/",
          "height": 260
        },
        "outputId": "76030a61-c00c-4d65-93f7-4064eb95a769"
      },
      "source": [
        "model.summary()"
      ],
      "execution_count": 34,
      "outputs": [
        {
          "output_type": "stream",
          "text": [
            "Model: \"sequential_5\"\n",
            "_________________________________________________________________\n",
            "Layer (type)                 Output Shape              Param #   \n",
            "=================================================================\n",
            "flatten_4 (Flatten)          (None, 784)               0         \n",
            "_________________________________________________________________\n",
            "dense_6 (Dense)              (None, 100)               78500     \n",
            "_________________________________________________________________\n",
            "dense_7 (Dense)              (None, 10)                1010      \n",
            "=================================================================\n",
            "Total params: 79,510\n",
            "Trainable params: 79,510\n",
            "Non-trainable params: 0\n",
            "_________________________________________________________________\n"
          ],
          "name": "stdout"
        }
      ]
    },
    {
      "cell_type": "markdown",
      "metadata": {
        "id": "7CGdJHczfC8o",
        "colab_type": "text"
      },
      "source": [
        "## Compiling the model\n",
        "* Before training the model we must compile the model\n",
        "* In model compile step we configure the learning process of the model\n",
        "* Arguments of the compile method\n",
        "  * **An optimizer**. An optimizer is nothing but an algorithm that helps to adjust the weights of the edges. \n",
                              " This could be the string identifier of an existing optimizer (such as rmsprop or Adam), or an instance of the Optimizer class. \n",
        "  * **A loss function**. It’s a method of evaluating how well your algorithm models your dataset. If your predictions are totally off, your loss function will output a higher number. If they’re pretty good, it’ll output a lower number. \n",
        "  \n",
        "    This is the objective that the model will try to minimize. It can be the string identifier of an existing loss function (such as categorical_crossentropy or sparse_categorical_crossentropy), or it can be an objective function.\n",
        "  * **A list of metrics**. For any classification problem you will want to set this to metrics=['accuracy']. A metric could be the string identifier of an existing metric or a custom metric function."
      ]
    },
    {
      "cell_type": "code",
      "metadata": {
        "id": "OGsL7T7gfE8j",
        "colab_type": "code",
        "colab": {}
      },
      "source": [
        "model.compile(loss='sparse_categorical_crossentropy',optimizer='adam',metrics=['accuracy'])"
      ],
      "execution_count": 0,
      "outputs": []
    },
    {
      "cell_type": "markdown",
      "metadata": {
        "id": "K2HMIHcZfiiT",
        "colab_type": "text"
      },
      "source": [
        "## Training the model"
      ]
    },
    {
      "cell_type": "code",
      "metadata": {
        "id": "ZHJkC6sLfkBk",
        "colab_type": "code",
        "colab": {
          "base_uri": "https://localhost:8080/",
          "height": 69
        },
        "outputId": "3c647f0c-1267-4282-c6ff-0a1c71b9d263"
      },
      "source": [
        "model.fit(x_train,y_trainm)"
      ],
      "execution_count": 36,
      "outputs": [
        {
          "output_type": "stream",
          "text": [
            "Epoch 1/1\n",
            "60000/60000 [==============================] - 5s 76us/step - loss: 1.1806 - accuracy: 0.7345\n"
          ],
          "name": "stdout"
        },
        {
          "output_type": "execute_result",
          "data": {
            "text/plain": [
              "<keras.callbacks.callbacks.History at 0x7f2bbaff2c18>"
            ]
          },
          "metadata": {
            "tags": []
          },
          "execution_count": 36
        }
      ]
    },
    {
      "cell_type": "code",
      "metadata": {
        "id": "Tr9ZuiQtfrr_",
        "colab_type": "code",
        "colab": {
          "base_uri": "https://localhost:8080/",
          "height": 52
        },
        "outputId": "28a146d0-e959-40ed-d7e3-e4b24cebedaf"
      },
      "source": [
        "model.evaluate(x_test,y_test)"
      ],
      "execution_count": 37,
      "outputs": [
        {
          "output_type": "stream",
          "text": [
            "10000/10000 [==============================] - 0s 29us/step\n"
          ],
          "name": "stdout"
        },
        {
          "output_type": "execute_result",
          "data": {
            "text/plain": [
              "[0.5910510490894317, 0.8565000295639038]"
            ]
          },
          "metadata": {
            "tags": []
          },
          "execution_count": 37
        }
      ]
    },
    {
      "cell_type": "markdown",
      "metadata": {
        "id": "j48qxY-Cfzwx",
        "colab_type": "text"
      },
      "source": [
        "## **Accuracy is 85.6 %**"
      ]
    },
    {
      "cell_type": "markdown",
      "metadata": {
        "id": "64LpcCAtf7n4",
        "colab_type": "text"
      },
      "source": [
        "## Prediction\n",
        "* Lets predict the value of test example at index 9 in test set (ans is 2 = Pullover)"
      ]
    },
    {
      "cell_type": "code",
      "metadata": {
        "id": "5HIfC0lof5x3",
        "colab_type": "code",
        "colab": {}
      },
      "source": [
        "yp = model.predict(x_test)"
      ],
      "execution_count": 0,
      "outputs": []
    },
    {
      "cell_type": "code",
      "metadata": {
        "id": "I3BWdobxgMx0",
        "colab_type": "code",
        "colab": {
          "base_uri": "https://localhost:8080/",
          "height": 293
        },
        "outputId": "a2f0fcb0-6b8c-40cd-d217-d57423dcc1b6"
      },
      "source": [
        "plt.matshow(x_test[9])"
      ],
      "execution_count": 41,
      "outputs": [
        {
          "output_type": "execute_result",
          "data": {
            "text/plain": [
              "<matplotlib.image.AxesImage at 0x7f2bb3498518>"
            ]
          },
          "metadata": {
            "tags": []
          },
          "execution_count": 41
        },
        {
          "output_type": "display_data",
          "data": {
            "image/png": "[encoded data removed]",
            "text/plain": [
              "<Figure size 288x288 with 1 Axes>"
            ]
          },
          "metadata": {
            "tags": [],
            "needs_background": "light"
          }
        }
      ]
    },
    {
      "cell_type": "code",
      "metadata": {
        "id": "PzMGoErtgS8Z",
        "colab_type": "code",
        "colab": {
          "base_uri": "https://localhost:8080/",
          "height": 69
        },
        "outputId": "6307a8a4-cef7-4971-f718-5dad0ba1e246"
      },
      "source": [
        "# probabilities for every class, choose the highest one\n",
        "yp[9]"
      ],
      "execution_count": 42,
      "outputs": [
        {
          "output_type": "execute_result",
          "data": {
            "text/plain": [
              "array([1.5382610e-03, 3.5741123e-05, 2.8103055e-04, 2.7935114e-04,\n",
              "       1.1497555e-01, 6.5079150e-03, 8.1849826e-04, 3.2395265e-01,\n",
              "       8.6797783e-03, 5.4293126e-01], dtype=float32)"
            ]
          },
          "metadata": {
            "tags": []
          },
          "execution_count": 42
        }
      ]
    },
    {
      "cell_type": "code",
      "metadata": {
        "id": "30J9m_AFiBxY",
        "colab_type": "code",
        "colab": {
          "base_uri": "https://localhost:8080/",
          "height": 35
        },
        "outputId": "3e5eac66-d2be-41b3-885b-c69d8a7e2533"
      },
      "source": [
        "import numpy as np\n",
        "\n",
        "np.argmax(yp[9])"
      ],
      "execution_count": 44,
      "outputs": [
        {
          "output_type": "execute_result",
          "data": {
            "text/plain": [
              "9"
            ]
          },
          "metadata": {
            "tags": []
          },
          "execution_count": 44
        }
      ]
    }
  ]
}
