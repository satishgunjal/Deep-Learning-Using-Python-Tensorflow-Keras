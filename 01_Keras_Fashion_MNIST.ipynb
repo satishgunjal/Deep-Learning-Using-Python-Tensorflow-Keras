{
  "nbformat": 4,
  "nbformat_minor": 0,
  "metadata": {
    "colab": {
      "name": "01_Keras_Fashion_MNIST.ipynb",
      "provenance": [],
      "authorship_tag": "ABX9TyP9ZxIuzGFCGoQ+abtW4uDi",
      "include_colab_link": true
    },
    "kernelspec": {
      "name": "python3",
      "display_name": "Python 3"
    }
  },
  "cells": [
    {
      "cell_type": "markdown",
      "metadata": {
        "id": "view-in-github",
        "colab_type": "text"
      },
      "source": [
        "<a href=\"https://colab.research.google.com/github/satishgunjal/Deep-Learning-Using-Python-Tensorflow-Keras/blob/master/01_Keras_Fashion_MNIST.ipynb\" target=\"_parent\"><img src=\"https://colab.research.google.com/assets/colab-badge.svg\" alt=\"Open In Colab\"/></a>"
      ]
    },
    {
      "cell_type": "markdown",
      "metadata": {
        "id": "klJNhLyoAN8c",
        "colab_type": "text"
      },
      "source": [
        "# Neural network in Keras for image classification problem\n",
        "* We will use keras fashion MNIST dataset. \n",
        "* This consist of 60000 28X28 pixel images and 10000 test images, these images are classified in one of the 10 categories(labels) shown below\n",
        "  * 0 T-shirt/top\n",
        "  * 1 Trouser\n",
        "  * 2 Pullover\n",
        "  * 3 Dress\n",
        "  * 4 Coat\n",
        "  * 5 Sandal\n",
        "  * 6 Shirt\n",
        "  * 7 Sneaker\n",
        "  * 8 Bag\n",
        "  * 9 Ankle boot\n",
        "\n",
        "* Each image is 28 pixels in height and 28 pixels in width, for a total of 784 pixels in total. Each pixel has a single pixel-value associated with it, indicating the lightness or darkness of that pixel, with higher numbers meaning darker. This pixel-value is an integer between 0 and 255. \n",
        "* The training and test data sets have 785 columns. The first column consists of the class labels (see above), and represents the article of clothing. The rest of the columns contain the pixel-values of the associated image.\n",
        "* [Kaggle Reference](https://www.kaggle.com/zalando-research/fashionmnist)\n",
        "\n",
        "## Problem Statement\n",
        "* Build neural netwrok to predict the correct label from test data"
      ]
    },
    {
      "cell_type": "code",
      "metadata": {
        "id": "q8DyARUcALFy",
        "colab_type": "code",
        "colab": {}
      },
      "source": [
        "import numpy as np\n",
        "import matplotlib.pyplot as plt\n",
        "%matplotlib inline"
      ],
      "execution_count": 0,
      "outputs": []
    },
    {
      "cell_type": "code",
      "metadata": {
        "id": "9DRCjyrdAMhz",
        "colab_type": "code",
        "colab": {}
      },
      "source": [
        "import keras"
      ],
      "execution_count": 0,
      "outputs": []
    },
    {
      "cell_type": "code",
      "metadata": {
        "id": "5YDoZkD6AhSJ",
        "colab_type": "code",
        "colab": {
          "base_uri": "https://localhost:8080/",
          "height": 35
        },
        "outputId": "3568788a-c6d5-4564-92f8-8f7ebcae91ac"
      },
      "source": [
        "keras.backend.backend()"
      ],
      "execution_count": 69,
      "outputs": [
        {
          "output_type": "execute_result",
          "data": {
            "text/plain": [
              "'tensorflow'"
            ]
          },
          "metadata": {
            "tags": []
          },
          "execution_count": 69
        }
      ]
    },
    {
      "cell_type": "markdown",
      "metadata": {
        "id": "dduMPWyvHBC6",
        "colab_type": "text"
      },
      "source": [
        "## import the Fashion mnist from keras datasets\n",
        "*  x_train, x_test: uint8 array of grayscale image data with shape (num_samples, 28, 28).\n",
        "\n",
        "*  y_train, y_test: uint8 array of labels (integers in range 0-9) with shape (num_samples,).\n",
        "\n",
        "*  (The Uint8Array typed array represents an array of 8-bit unsigned integers. 8-bit unsigned integer has a range of 0 to 255)\n",
        "\n",
        "*  Since its 8bit gray scale image every pixel is stored in 1byte of memmory. Min value of each pixel in image data array is 0 means black, where max value is 255(2^8-1) means white\n",
        "*  For more details about Bit-Map Images pls refer [Bit-Map Images](https://courses.cs.vt.edu/~cs1204/art/bitmaps.html) and [Quera post about 8-Bit image](https://qr.ae/pNrl0g)"
      ]
    },
    {
      "cell_type": "code",
      "metadata": {
        "id": "87-8S9J1Kh8y",
        "colab_type": "code",
        "colab": {}
      },
      "source": [
        "from keras.datasets import fashion_mnist\n",
        "(X_train,y_train) ,(X_test,y_test) = fashion_mnist.load_data()\n"
      ],
      "execution_count": 0,
      "outputs": []
    },
    {
      "cell_type": "code",
      "metadata": {
        "id": "NIIOjYzwLW_W",
        "colab_type": "code",
        "colab": {
          "base_uri": "https://localhost:8080/",
          "height": 87
        },
        "outputId": "98ae3f70-687d-4d3a-b2e1-af8d60aeb762"
      },
      "source": [
        "print(X_train.shape)\n",
        "print(y_train.shape)\n",
        "print(X_test.shape)\n",
        "print(y_test.shape)"
      ],
      "execution_count": 71,
      "outputs": [
        {
          "output_type": "stream",
          "text": [
            "(60000, 28, 28)\n",
            "(60000,)\n",
            "(10000, 28, 28)\n",
            "(10000,)\n"
          ],
          "name": "stdout"
        }
      ]
    },
    {
      "cell_type": "code",
      "metadata": {
        "id": "wQpROK3cPURZ",
        "colab_type": "code",
        "colab": {
          "base_uri": "https://localhost:8080/",
          "height": 293
        },
        "outputId": "bd412882-b0fc-4468-b4b9-96ef4b9e3140"
      },
      "source": [
        "# First element from tarining set\n",
        "plt.matshow(X_train[0])"
      ],
      "execution_count": 72,
      "outputs": [
        {
          "output_type": "execute_result",
          "data": {
            "text/plain": [
              "<matplotlib.image.AxesImage at 0x7fa2dd2870b8>"
            ]
          },
          "metadata": {
            "tags": []
          },
          "execution_count": 72
        },
        {
          "output_type": "display_data",
          "data": {
            "image/png": "[encoded data removed]",
            "text/plain": [
              "<Figure size 288x288 with 1 Axes>"
            ]
          },
          "metadata": {
            "tags": [],
            "needs_background": "light"
          }
        }
      ]
    },
    {
      "cell_type": "code",
      "metadata": {
        "id": "rMr5-c3vTXzU",
        "colab_type": "code",
        "colab": {
          "base_uri": "https://localhost:8080/",
          "height": 35
        },
        "outputId": "71932948-e30c-448f-cbf9-3c78ae5ba15f"
      },
      "source": [
        "#Label of the first training set\n",
        "y_train[0]"
      ],
      "execution_count": 73,
      "outputs": [
        {
          "output_type": "execute_result",
          "data": {
            "text/plain": [
              "9"
            ]
          },
          "metadata": {
            "tags": []
          },
          "execution_count": 73
        }
      ]
    },
    {
      "cell_type": "markdown",
      "metadata": {
        "id": "dbBejQ_WTnWM",
        "colab_type": "text"
      },
      "source": [
        "As per data label 9 is for Ankle boot"
      ]
    },
    {
      "cell_type": "markdown",
      "metadata": {
        "id": "RmRq9V9MWStE",
        "colab_type": "text"
      },
      "source": [
        "## Normalize training data before training the neural net\n",
        "* We will use feature scaling for data normalization. Feature scaling involves dividing input value by range(max -min).\n",
        "* After feature scaling we get feature range from 0 to 1"
      ]
    },
    {
      "cell_type": "code",
      "metadata": {
        "id": "QGWb61-bXk7j",
        "colab_type": "code",
        "colab": {}
      },
      "source": [
        "X_train = X_train/255"
      ],
      "execution_count": 0,
      "outputs": []
    },
    {
      "cell_type": "code",
      "metadata": {
        "id": "Chi0RVkmXq9Y",
        "colab_type": "code",
        "colab": {}
      },
      "source": [
        "X_test =X_test/255"
      ],
      "execution_count": 0,
      "outputs": []
    },
    {
      "cell_type": "markdown",
      "metadata": {
        "id": "4ul8K_Z9X47A",
        "colab_type": "text"
      },
      "source": [
        "## Now build the Sequential Model and add layers into it\n",
        "* Sequential model is linear stack of layers\n",
        "* Here we are going to use Flatten, Dense and Activation layer\n",
        "* We are going to use Flatten to convert our input image 2D array(28x28) to 1D array(784)\n",
        "* We are using Dense layer  with activation function 'relu' to create our hidden layer. To start with we will use 100 neurons.\n",
        "* And we will use Dense layer with activation function 'softmax' to create our output layer. Since we have 10 categories(labels) we are going use 10 neurons in this layer\n",
        "* 'softmax' activation function in last layer is used to ditribute the set of numbers into the probabilty for the output classess(labels)"
      ]
    },
    {
      "cell_type": "code",
      "metadata": {
        "id": "dm10JlXpsXuS",
        "colab_type": "code",
        "colab": {}
      },
      "source": [
        "from keras.models import Sequential\n",
        "from keras.layers import Flatten, Dense, Activation\n",
        "\n",
        "model= Sequential()\n",
        "\n",
        "model.add(Flatten(input_shape = [28,28]))\n",
        "model.add(Dense(100, activation= 'relu'))\n",
        "model.add(Dense(10, activation= 'softmax'))"
      ],
      "execution_count": 0,
      "outputs": []
    },
    {
      "cell_type": "code",
      "metadata": {
        "id": "MJK05Ljq3EyJ",
        "colab_type": "code",
        "colab": {
          "base_uri": "https://localhost:8080/",
          "height": 260
        },
        "outputId": "aca60ca2-6f16-4e33-9c96-cce92da5ddd5"
      },
      "source": [
        "model.summary()"
      ],
      "execution_count": 77,
      "outputs": [
        {
          "output_type": "stream",
          "text": [
            "Model: \"sequential_6\"\n",
            "_________________________________________________________________\n",
            "Layer (type)                 Output Shape              Param #   \n",
            "=================================================================\n",
            "flatten_9 (Flatten)          (None, 784)               0         \n",
            "_________________________________________________________________\n",
            "dense_11 (Dense)             (None, 100)               78500     \n",
            "_________________________________________________________________\n",
            "dense_12 (Dense)             (None, 10)                1010      \n",
            "=================================================================\n",
            "Total params: 79,510\n",
            "Trainable params: 79,510\n",
            "Non-trainable params: 0\n",
            "_________________________________________________________________\n"
          ],
          "name": "stdout"
        }
      ]
    },
    {
      "cell_type": "markdown",
      "metadata": {
        "id": "jVOry6-Y4YyU",
        "colab_type": "text"
      },
      "source": [
        "## Compiling the model\n",
        "* Before training the model we must compile the model\n",
        "* In model compile step we configure the learning process of the model\n",
        "* Arguments of the compile method\n",
        "  * **An optimizer**. An optimizer is nothing but an algorithm that helps to adjust the weights of the edges. \n",
                              " This could be the string identifier of an existing optimizer (such as rmsprop or Adam), or an instance of the Optimizer class. \n",
        "  * **A loss function**. It’s a method of evaluating how well your algorithm models your dataset. If your predictions are totally off, your loss function will output a higher number. If they’re pretty good, it’ll output a lower number. \n",
        "  \n",
        "    This is the objective that the model will try to minimize. It can be the string identifier of an existing loss function (such as categorical_crossentropy or sparse_categorical_crossentropy), or it can be an objective function.\n",
        "  * **A list of metrics**. For any classification problem you will want to set this to metrics=['accuracy']. A metric could be the string identifier of an existing metric or a custom metric function."
      ]
    },
    {
      "cell_type": "code",
      "metadata": {
        "id": "A05u5ZXS7AW_",
        "colab_type": "code",
        "colab": {}
      },
      "source": [
        "model.compile(loss='sparse_categorical_crossentropy',optimizer='adam',metrics=['accuracy'])"
      ],
      "execution_count": 0,
      "outputs": []
    },
    {
      "cell_type": "markdown",
      "metadata": {
        "id": "E70b2_xO_EUI",
        "colab_type": "text"
      },
      "source": [
        "## Training the model"
      ]
    },
    {
      "cell_type": "code",
      "metadata": {
        "id": "5ycVbZn8_Gl0",
        "colab_type": "code",
        "colab": {
          "base_uri": "https://localhost:8080/",
          "height": 69
        },
        "outputId": "431bfd8a-dca6-41e0-a5e7-c33a62ae51f4"
      },
      "source": [
        "model.fit(X_train,y_train)"
      ],
      "execution_count": 79,
      "outputs": [
        {
          "output_type": "stream",
          "text": [
            "Epoch 1/1\n",
            "60000/60000 [==============================] - 4s 67us/step - loss: 0.5089 - accuracy: 0.8233\n"
          ],
          "name": "stdout"
        },
        {
          "output_type": "execute_result",
          "data": {
            "text/plain": [
              "<keras.callbacks.callbacks.History at 0x7fa2dd531710>"
            ]
          },
          "metadata": {
            "tags": []
          },
          "execution_count": 79
        }
      ]
    },
    {
      "cell_type": "code",
      "metadata": {
        "id": "FPrZzWZa_yZW",
        "colab_type": "code",
        "colab": {
          "base_uri": "https://localhost:8080/",
          "height": 52
        },
        "outputId": "755ff815-71bb-4db9-ddad-2670f874ece1"
      },
      "source": [
        "model.evaluate(X_test,y_test)"
      ],
      "execution_count": 80,
      "outputs": [
        {
          "output_type": "stream",
          "text": [
            "10000/10000 [==============================] - 0s 26us/step\n"
          ],
          "name": "stdout"
        },
        {
          "output_type": "execute_result",
          "data": {
            "text/plain": [
              "[0.44532530145645144, 0.8406999707221985]"
            ]
          },
          "metadata": {
            "tags": []
          },
          "execution_count": 80
        }
      ]
    },
    {
      "cell_type": "markdown",
      "metadata": {
        "id": "2STG7oC8AWf1",
        "colab_type": "text"
      },
      "source": [
        "Model accuracy is 84% and first parameter is loss. We can play with the parameters to improve the accuracy. e.g. try increasing the numbe of hidden layer"
      ]
    },
    {
      "cell_type": "markdown",
      "metadata": {
        "id": "s6LSeih9DWjN",
        "colab_type": "text"
      },
      "source": [
        "## Prediction\n",
        "* Lets predict the value of test example at index 1 in test set (ans is 2 = Pullover)"
      ]
    },
    {
      "cell_type": "code",
      "metadata": {
        "id": "jI4jfx56AtWI",
        "colab_type": "code",
        "colab": {
          "base_uri": "https://localhost:8080/",
          "height": 293
        },
        "outputId": "c5c18060-c227-47b2-dc7a-b94513824571"
      },
      "source": [
        "plt.matshow(X_test[1])"
      ],
      "execution_count": 81,
      "outputs": [
        {
          "output_type": "execute_result",
          "data": {
            "text/plain": [
              "<matplotlib.image.AxesImage at 0x7fa2dd113240>"
            ]
          },
          "metadata": {
            "tags": []
          },
          "execution_count": 81
        },
        {
          "output_type": "display_data",
          "data": {
            "image/png": "[encoded data removed]",
            "text/plain": [
              "<Figure size 288x288 with 1 Axes>"
            ]
          },
          "metadata": {
            "tags": [],
            "needs_background": "light"
          }
        }
      ]
    },
    {
      "cell_type": "code",
      "metadata": {
        "id": "3P-QqIilAw2g",
        "colab_type": "code",
        "colab": {}
      },
      "source": [
        "yp = model.predict(X_test)"
      ],
      "execution_count": 0,
      "outputs": []
    },
    {
      "cell_type": "code",
      "metadata": {
        "id": "xY8HehVYAzof",
        "colab_type": "code",
        "colab": {
          "base_uri": "https://localhost:8080/",
          "height": 35
        },
        "outputId": "61ce61bd-13d2-451c-aa5c-d068ad4c89dc"
      },
      "source": [
        "# Note that 'softmax' activation function gives us the probability for each class in output layer.\n",
        "# Class with maximum probability is our correct prediction (as per model)\n",
        "np.argmax(yp[1])"
      ],
      "execution_count": 84,
      "outputs": [
        {
          "output_type": "execute_result",
          "data": {
            "text/plain": [
              "2"
            ]
          },
          "metadata": {
            "tags": []
          },
          "execution_count": 84
        }
      ]
    },
    {
      "cell_type": "code",
      "metadata": {
        "id": "X35IxaRxEEFX",
        "colab_type": "code",
        "colab": {}
      },
      "source": [
        "#Lets create a list of labels\n",
        "\n",
        "class_labels = [\"T-shirt/top\",\"Trouser\",\"Pullover\",\"Dress\",\"Coat\",\"Sandal\",\"Shirt\",\"Sneaker\",\"Bag\",\"Ankle boot\"]"
      ],
      "execution_count": 0,
      "outputs": []
    },
    {
      "cell_type": "code",
      "metadata": {
        "id": "50AUbhk1EnRt",
        "colab_type": "code",
        "colab": {
          "base_uri": "https://localhost:8080/",
          "height": 35
        },
        "outputId": "a24e2e5a-4fd8-4d02-ae49-a8d8ad89603d"
      },
      "source": [
        "class_labels[np.argmax(yp[1])]"
      ],
      "execution_count": 86,
      "outputs": [
        {
          "output_type": "execute_result",
          "data": {
            "text/plain": [
              "'Pullover'"
            ]
          },
          "metadata": {
            "tags": []
          },
          "execution_count": 86
        }
      ]
    }
  ]
}
